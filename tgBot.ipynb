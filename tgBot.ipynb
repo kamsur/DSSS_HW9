{
 "cells": [
  {
   "cell_type": "code",
   "execution_count": 11,
   "metadata": {},
   "outputs": [],
   "source": [
    "from telegram import Update\n",
    "from telegram.ext import filters, MessageHandler, ApplicationBuilder, ContextTypes, CommandHandler"
   ]
  },
  {
   "cell_type": "code",
   "execution_count": 22,
   "metadata": {},
   "outputs": [],
   "source": [
    "API_TOKEN = 'MY_TOKEN_HERE' # Token hidden for security reasons\n",
    "application = ApplicationBuilder().token(API_TOKEN).build()"
   ]
  },
  {
   "cell_type": "code",
   "execution_count": 23,
   "metadata": {},
   "outputs": [],
   "source": [
    "async def start(update: Update, context: ContextTypes.DEFAULT_TYPE):\n",
    "    await context.bot.send_message(chat_id=update.effective_chat.id, text=\"I'm your personal AI assistant, please talk to me!\")\n",
    "    \n",
    "start_handler = CommandHandler('start', start)\n",
    "application.add_handler(start_handler)"
   ]
  },
  {
   "cell_type": "code",
   "execution_count": null,
   "metadata": {},
   "outputs": [],
   "source": [
    "from transformers import AutoTokenizer, AutoModelForCausalLM\n",
    "\n",
    "tokenizer = AutoTokenizer.from_pretrained(\"TinyLlama/TinyLlama-1.1B-Chat-v1.0\")\n",
    "model = AutoModelForCausalLM.from_pretrained(\"TinyLlama/TinyLlama-1.1B-Chat-v1.0\")"
   ]
  },
  {
   "cell_type": "code",
   "execution_count": 24,
   "metadata": {},
   "outputs": [],
   "source": [
    "def generate_response(question, model, tokenizer):\n",
    "    prompt = f\"Use only your past knowledge about animals and answer the following question concisely and accurately:\\n\\n{question}\\n\"\n",
    "    inputs = tokenizer(prompt, return_tensors=\"pt\")\n",
    "    outputs = model.generate(\n",
    "        inputs.input_ids, \n",
    "        num_return_sequences=1,\n",
    "        do_sample=True,\n",
    "        temperature=0.7, \n",
    "        top_k=50, \n",
    "        top_p=0.95\n",
    "    )\n",
    "    return tokenizer.decode(outputs[0], skip_special_tokens=True)[len(prompt):]\n"
   ]
  },
  {
   "cell_type": "code",
   "execution_count": 20,
   "metadata": {},
   "outputs": [],
   "source": [
    "animal_name = \"lion\"\n",
    "question = f\"Give me facts about {animal_name}\"\n",
    "result = generate_response(question, model, tokenizer)"
   ]
  },
  {
   "cell_type": "code",
   "execution_count": 21,
   "metadata": {},
   "outputs": [
    {
     "name": "stdout",
     "output_type": "stream",
     "text": [
      "\n",
      "1. Name: lion\n",
      "\n",
      "2. Classification: mammal\n",
      "\n",
      "3. Order: Carnivora\n",
      "\n",
      "4. Family: Felidae\n",
      "\n",
      "5. Genus: Pan\n",
      "\n",
      "6. Species: Panthera leo\n",
      "\n",
      "7. Size: Adult males can reach up to 6 feet in length and weigh up to 500 pounds, while females can be up to 5 feet in length and weigh up to 250 pounds.\n",
      "\n",
      "8. Habitat: The lion inhabits various regions of sub-Saharan Africa, including Kenya, Tanzania, Uganda, and South Africa.\n",
      "\n",
      "9. Diet: The lion is a top predator, feeding on large prey such as antelopes, zebras, giraffes, and impalas.\n",
      "\n",
      "10. Behavior: Lions are solitary animals, except during the breeding season when they form harems with a mate and one or more offspring.\n",
      "\n",
      "11. Ecology: The lion's habitat is the savannah, where they hunt and hunt in groups called prides.\n",
      "\n",
      "12. Conservation: The lion population has been declining due to poaching, habitat loss, and competition with humans for resources.\n",
      "\n",
      "13. Interesting Facts: The lion is the second-largest cat after the tiger. Its paw prints are 3.6 inches in length and 2.8 inches in width.\n",
      "\n",
      "14. Symbolism: The lion is a symbol of strength, courage, and loyalty. It is also often used in African art and culture.\n",
      "\n",
      "15. Fun Fact: The lion is not a true lion, but a cat species that belongs to the same family as the leopard and the jaguar.\n",
      "\n",
      "16. Summary: The lion is a powerful and majestic animal that plays a critical role in the ecosystem of sub-Saharan Africa.\n"
     ]
    }
   ],
   "source": [
    "print(result)"
   ]
  },
  {
   "cell_type": "code",
   "execution_count": 25,
   "metadata": {},
   "outputs": [],
   "source": [
    "async def llm_response(update: Update, context: ContextTypes.DEFAULT_TYPE):\n",
    "    await context.bot.send_message(chat_id=update.effective_chat.id, text=f\"Your query is: \\\"{update.message.text}\\\"\\nPlease wait, while I generate a response...\")\n",
    "    response = generate_response(update.message.text, model, tokenizer)\n",
    "    await context.bot.send_message(chat_id=update.effective_chat.id, text=response)\n",
    "\n",
    "llm_handler = MessageHandler(filters.TEXT & (~filters.COMMAND), llm_response)\n",
    "application.add_handler(llm_handler)"
   ]
  },
  {
   "cell_type": "code",
   "execution_count": 26,
   "metadata": {},
   "outputs": [],
   "source": [
    "await application.initialize()\n",
    "await application.start()"
   ]
  },
  {
   "cell_type": "code",
   "execution_count": 27,
   "metadata": {},
   "outputs": [
    {
     "data": {
      "text/plain": [
       "<Queue at 0x1e18d0d1fc0 maxsize=0 _getters[1]>"
      ]
     },
     "execution_count": 27,
     "metadata": {},
     "output_type": "execute_result"
    }
   ],
   "source": [
    "await application.updater.start_polling(poll_interval=5.0, drop_pending_updates=True)"
   ]
  },
  {
   "cell_type": "code",
   "execution_count": 28,
   "metadata": {},
   "outputs": [],
   "source": [
    "await application.updater.stop()"
   ]
  },
  {
   "cell_type": "code",
   "execution_count": 29,
   "metadata": {},
   "outputs": [],
   "source": [
    "await application.stop()\n",
    "await application.shutdown()"
   ]
  }
 ],
 "metadata": {
  "kernelspec": {
   "display_name": "Python 3",
   "language": "python",
   "name": "python3"
  },
  "language_info": {
   "codemirror_mode": {
    "name": "ipython",
    "version": 3
   },
   "file_extension": ".py",
   "mimetype": "text/x-python",
   "name": "python",
   "nbconvert_exporter": "python",
   "pygments_lexer": "ipython3",
   "version": "3.10.11"
  }
 },
 "nbformat": 4,
 "nbformat_minor": 2
}
